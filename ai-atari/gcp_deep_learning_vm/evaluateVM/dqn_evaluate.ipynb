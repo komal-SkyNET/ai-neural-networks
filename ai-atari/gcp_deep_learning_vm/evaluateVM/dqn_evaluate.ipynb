{
 "cells": [
  {
   "cell_type": "code",
   "execution_count": 14,
   "metadata": {},
   "outputs": [
    {
     "name": "stderr",
     "output_type": "stream",
     "text": [
      "/home/jupyter/.local/lib/python3.5/site-packages/gym/logger.py:30: UserWarning: \u001b[33mWARN: Box bound precision lowered by casting to float32\u001b[0m\n",
      "  warnings.warn(colorize('%s: %s'%('WARN', msg % args), 'yellow'))\n"
     ]
    },
    {
     "name": "stdout",
     "output_type": "stream",
     "text": [
      "['NOOP', 'FIRE', 'RIGHT', 'LEFT']\n",
      "started..\n",
      "reward: 0.0, done: False, info: {'ale.lives': 5}\n",
      "reward: 1.0, done: False, info: {'ale.lives': 5}\n",
      "reward: 2.0, done: False, info: {'ale.lives': 5}\n",
      "reward: 3.0, done: False, info: {'ale.lives': 5}\n",
      "reward: 4.0, done: False, info: {'ale.lives': 5}\n",
      "reward: 5.0, done: False, info: {'ale.lives': 5}\n",
      "reward: 6.0, done: False, info: {'ale.lives': 5}\n",
      "reward: 7.0, done: False, info: {'ale.lives': 5}\n",
      "reward: 8.0, done: False, info: {'ale.lives': 5}\n",
      "reward: 9.0, done: False, info: {'ale.lives': 5}\n",
      "reward: 10.0, done: False, info: {'ale.lives': 5}\n",
      "reward: 11.0, done: False, info: {'ale.lives': 5}\n",
      "reward: 12.0, done: False, info: {'ale.lives': 4}\n",
      "reward: 13.0, done: False, info: {'ale.lives': 4}\n",
      "reward: 14.0, done: False, info: {'ale.lives': 2}\n",
      "reward: 15.0, done: False, info: {'ale.lives': 2}\n",
      "reward: 16.0, done: False, info: {'ale.lives': 2}\n",
      "reward: 17.0, done: False, info: {'ale.lives': 1}\n"
     ]
    }
   ],
   "source": [
    "import tensorflow as tf\n",
    "from gym import wrappers\n",
    "import numpy as np\n",
    "import gym\n",
    "from wrapper import ChannelsFirstImageShape, FrameStack, ProcessFrame84\n",
    "fn = 'Breakout__18.0max_7.92avg_3.0min__1585519404.model'\n",
    "\n",
    "model = tf.keras.models.load_model('{}'.format(fn))\n",
    "def get_qs(state):\n",
    "    state = np.array(state)\n",
    "    state = state/255.0\n",
    "    return model.predict(np.array(state).reshape(-1, *state.shape))[0]\n",
    "\n",
    "env = gym.make('BreakoutDeterministic-v4')\n",
    "env = ProcessFrame84(env)\n",
    "env = ChannelsFirstImageShape(env)\n",
    "env = FrameStack(env, 4)\n",
    "env = wrappers.Monitor(env, \"./gym-results\", force=True)\n",
    "obs = env.reset()\n",
    "print(env.unwrapped.get_action_meanings())\n",
    "done = False\n",
    "total_rew = 0\n",
    "step = 0 \n",
    "epsilon = 0.001\n",
    "lives = 5\n",
    "print(\"started..\")\n",
    "while not done:\n",
    "    if np.random.random() > epsilon:\n",
    "        # Get action from Q table\n",
    "        action = np.argmax(get_qs(obs))\n",
    "    else:\n",
    "        # Get random action\n",
    "        action = np.random.randint(0, env.action_space.n)\n",
    "    obs, rew, done, info = env.step(action)\n",
    "    if not done and info['ale.lives'] < lives:\n",
    "        #fire to drop the ball\n",
    "        lives = info['ale.lives']\n",
    "        obs, rew, done, info = env.step(1)\n",
    "    if rew != 0:\n",
    "        print(\"reward: {}, done: {}, info: {}\".format(total_rew, done, info))\n",
    "    total_rew += rew\n",
    "env.close()\n"
   ]
  },
  {
   "cell_type": "code",
   "execution_count": null,
   "metadata": {},
   "outputs": [],
   "source": []
  },
  {
   "cell_type": "code",
   "execution_count": null,
   "metadata": {},
   "outputs": [],
   "source": []
  }
 ],
 "metadata": {
  "kernelspec": {
   "display_name": "Python 3",
   "language": "python",
   "name": "python3"
  },
  "language_info": {
   "codemirror_mode": {
    "name": "ipython",
    "version": 3
   },
   "file_extension": ".py",
   "mimetype": "text/x-python",
   "name": "python",
   "nbconvert_exporter": "python",
   "pygments_lexer": "ipython3",
   "version": "3.5.3"
  }
 },
 "nbformat": 4,
 "nbformat_minor": 4
}
