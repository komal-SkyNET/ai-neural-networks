{
  "nbformat": 4,
  "nbformat_minor": 0,
  "metadata": {
    "colab": {
      "name": "co-vid_math_analysis.ipynb",
      "provenance": [],
      "collapsed_sections": [],
      "authorship_tag": "ABX9TyNLWeKAsd5ptxx/mP8KZ7Gj",
      "include_colab_link": true
    },
    "kernelspec": {
      "name": "python3",
      "display_name": "Python 3"
    }
  },
  "cells": [
    {
      "cell_type": "markdown",
      "metadata": {
        "id": "view-in-github",
        "colab_type": "text"
      },
      "source": [
        "<a href=\"https://colab.research.google.com/github/komal-SkyNET/ai-neural-networks/blob/master/google-colab/co_vid_math_analysis.ipynb\" target=\"_parent\"><img src=\"https://colab.research.google.com/assets/colab-badge.svg\" alt=\"Open In Colab\"/></a>"
      ]
    },
    {
      "cell_type": "markdown",
      "metadata": {
        "id": "W8yDRGN39DJs",
        "colab_type": "text"
      },
      "source": [
        "\n",
        "\n",
        "---\n",
        "\n",
        "\n",
        "# Mathematical analysis of epidemic's (CoVID19) exponential growth and significant factors \n",
        "\n",
        "---\n",
        "\n",
        "\n"
      ]
    },
    {
      "cell_type": "code",
      "metadata": {
        "id": "gw46yzc5EcvN",
        "colab_type": "code",
        "colab": {}
      },
      "source": [
        "import matplotlib.pyplot as plt\n",
        "# from __future__ import division"
      ],
      "execution_count": 0,
      "outputs": []
    },
    {
      "cell_type": "code",
      "metadata": {
        "id": "j9oCppSjoNrm",
        "colab_type": "code",
        "colab": {}
      },
      "source": [
        "class Country:\n",
        "\n",
        "  def __init__(self, pop_size=10000):\n",
        "    self.pop_size = pop_size\n",
        "    self.infected_size = 1\n",
        "    self.recovered_size = 0\n",
        "    self.new_infections = 0\n",
        "\n",
        "  def run_epoch(self, trans_prob, is_recover, recovery_rate):\n",
        "    # new infections propotional to uninfected people & can't affect recovered people (not considering mutation scenario)\n",
        "    self.new_infections = (self.pop_size - self.recovered_size - self.infected_size) * min(1, (trans_prob * self.infected_size))\n",
        "    self.infected_size += self.new_infections\n",
        "    if is_recover:\n",
        "      self.recovered_size += (self.infected_size * recovery_rate)\n",
        "      self.infected_size = self.infected_size - (self.infected_size * recovery_rate)\n",
        "\n"
      ],
      "execution_count": 0,
      "outputs": []
    },
    {
      "cell_type": "code",
      "metadata": {
        "id": "fyu-c6l1nkTS",
        "colab_type": "code",
        "colab": {}
      },
      "source": [
        "class World:\n",
        "\n",
        "  def __init__(self, num_countries, pop_size):\n",
        "    self.countries =[]\n",
        "    for i in range(num_countries):\n",
        "      self.countries.append(Country(pop_size))\n",
        "    "
      ],
      "execution_count": 0,
      "outputs": []
    },
    {
      "cell_type": "code",
      "metadata": {
        "id": "NDI12yTVpBpd",
        "colab_type": "code",
        "colab": {}
      },
      "source": [
        "class Epoch:\n",
        "\n",
        "  def __init__(self, num_epoch, recovery_rate, transmission_probability, world):\n",
        "    self.recovery_rate = recovery_rate\n",
        "    self.transmission_probability = transmission_probability\n",
        "    self.world = world\n",
        "    self.num_epoch = num_epoch\n",
        "    self.infected_size_trend = []\n",
        "\n",
        "  def run(self):\n",
        "    for i in range(1, self.num_epoch):\n",
        "      for country in self.world.countries:\n",
        "        # i%3==0; say 3 weeks is the time taken to know the outcome of infected patients\n",
        "        country.run_epoch(self.transmission_probability, i%3==0, self.recovery_rate)\n",
        "        print(\"Week: %s | Infected: %s | Recovered: %s | Infected_Percentage_Population: %f\" % (i, country.infected_size, country.recovered_size, 100*country.infected_size/country.pop_size))\n",
        "        self.infected_size_trend.append(country.infected_size)\n"
      ],
      "execution_count": 0,
      "outputs": []
    },
    {
      "cell_type": "code",
      "metadata": {
        "id": "3EZUhfK8qvhL",
        "colab_type": "code",
        "colab": {
          "base_uri": "https://localhost:8080/",
          "height": 1000
        },
        "outputId": "ffafb40c-e947-49cf-ca5b-611864e04698"
      },
      "source": [
        "pop_size = 25000000\n",
        "x = 20\n",
        "transmission_rate = x / pop_size # say, X people can get infected by 1 infected person\n",
        "recovery_rate = 0.94 # as per https://www.worldometers.info/coronavirus/\n",
        "w = World(1, pop_size)\n",
        "epoch = Epoch(70, recovery_rate, transmission_rate, w)\n",
        "epoch.run()\n",
        "plt.plot(epoch.infected_size_trend)\n",
        "plt.xlabel('Weeks')\n",
        "plt.ylabel('Total cases')\n",
        "plt.show()"
      ],
      "execution_count": 43,
      "outputs": [
        {
          "output_type": "stream",
          "text": [
            "Week: 1 | Infected: 20.999999199999998 | Recovered: 0 | Infected_Percentage_Population: 0.000084\n",
            "Week: 2 | Infected: 440.9996304000268 | Recovered: 0 | Infected_Percentage_Population: 0.001764\n",
            "Week: 3 | Infected: 555.6501992316807 | Recovered: 8705.186454629671 | Infected_Percentage_Population: 0.002223\n",
            "Week: 4 | Infected: 11664.537555279878 | Recovered: 8705.186454629671 | Infected_Percentage_Population: 0.046658\n",
            "Week: 5 | Infected: 244765.20593231395 | Recovered: 8705.186454629671 | Infected_Percentage_Population: 0.979061\n",
            "Week: 6 | Infected: 305426.20430077985 | Recovered: 4793715.720500173 | Infected_Percentage_Population: 1.221705\n",
            "Week: 7 | Infected: 5168021.039690034 | Recovered: 4793715.720500173 | Infected_Percentage_Population: 20.672084\n",
            "Week: 8 | Infected: 20206284.27949983 | Recovered: 4793715.720500173 | Infected_Percentage_Population: 80.825137\n",
            "Week: 9 | Infected: 1212377.0567699894 | Recovered: 23787622.94323001 | Infected_Percentage_Population: 4.849508\n",
            "Week: 10 | Infected: 1212377.0567699894 | Recovered: 23787622.94323001 | Infected_Percentage_Population: 4.849508\n",
            "Week: 11 | Infected: 1212377.0567699894 | Recovered: 23787622.94323001 | Infected_Percentage_Population: 4.849508\n",
            "Week: 12 | Infected: 72742.6234061995 | Recovered: 24927257.376593802 | Infected_Percentage_Population: 0.290970\n",
            "Week: 13 | Infected: 72742.6234061994 | Recovered: 24927257.376593802 | Infected_Percentage_Population: 0.290970\n",
            "Week: 14 | Infected: 72742.62340619932 | Recovered: 24927257.376593802 | Infected_Percentage_Population: 0.290970\n",
            "Week: 15 | Infected: 4364.557404371953 | Recovered: 24995635.44259563 | Infected_Percentage_Population: 0.017458\n",
            "Week: 16 | Infected: 4364.557404371943 | Recovered: 24995635.44259563 | Infected_Percentage_Population: 0.017458\n",
            "Week: 17 | Infected: 4364.557404371933 | Recovered: 24995635.44259563 | Infected_Percentage_Population: 0.017458\n",
            "Week: 18 | Infected: 261.8734442623154 | Recovered: 24999738.12655574 | Infected_Percentage_Population: 0.001047\n",
            "Week: 19 | Infected: 261.8734442623147 | Recovered: 24999738.12655574 | Infected_Percentage_Population: 0.001047\n",
            "Week: 20 | Infected: 261.873444262314 | Recovered: 24999738.12655574 | Infected_Percentage_Population: 0.001047\n",
            "Week: 21 | Infected: 15.712406655738818 | Recovered: 24999984.287593346 | Infected_Percentage_Population: 0.000063\n",
            "Week: 22 | Infected: 15.712406655738794 | Recovered: 24999984.287593346 | Infected_Percentage_Population: 0.000063\n",
            "Week: 23 | Infected: 15.712406655738771 | Recovered: 24999984.287593346 | Infected_Percentage_Population: 0.000063\n",
            "Week: 24 | Infected: 0.9427443993443259 | Recovered: 24999999.057255603 | Infected_Percentage_Population: 0.000004\n",
            "Week: 25 | Infected: 0.9427443993443239 | Recovered: 24999999.057255603 | Infected_Percentage_Population: 0.000004\n",
            "Week: 26 | Infected: 0.9427443993443219 | Recovered: 24999999.057255603 | Infected_Percentage_Population: 0.000004\n",
            "Week: 27 | Infected: 0.05656466396065929 | Recovered: 24999999.943435337 | Infected_Percentage_Population: 0.000000\n",
            "Week: 28 | Infected: 0.05656466396065923 | Recovered: 24999999.943435337 | Infected_Percentage_Population: 0.000000\n",
            "Week: 29 | Infected: 0.056564663960659164 | Recovered: 24999999.943435337 | Infected_Percentage_Population: 0.000000\n",
            "Week: 30 | Infected: 0.0033938798376395504 | Recovered: 24999999.996606123 | Infected_Percentage_Population: 0.000000\n",
            "Week: 31 | Infected: 0.0033938798376395435 | Recovered: 24999999.996606123 | Infected_Percentage_Population: 0.000000\n",
            "Week: 32 | Infected: 0.0033938798376395365 | Recovered: 24999999.996606123 | Infected_Percentage_Population: 0.000000\n",
            "Week: 33 | Infected: 0.0002036327902583718 | Recovered: 24999999.99979637 | Infected_Percentage_Population: 0.000000\n",
            "Week: 34 | Infected: 0.00020363279025837163 | Recovered: 24999999.99979637 | Infected_Percentage_Population: 0.000000\n",
            "Week: 35 | Infected: 0.00020363279025837147 | Recovered: 24999999.99979637 | Infected_Percentage_Population: 0.000000\n",
            "Week: 36 | Infected: 1.2217967415502302e-05 | Recovered: 24999999.999987785 | Infected_Percentage_Population: 0.000000\n",
            "Week: 37 | Infected: 1.2217967415502275e-05 | Recovered: 24999999.999987785 | Infected_Percentage_Population: 0.000000\n",
            "Week: 38 | Infected: 1.2217967415502248e-05 | Recovered: 24999999.999987785 | Infected_Percentage_Population: 0.000000\n",
            "Week: 39 | Infected: 7.330780449301339e-07 | Recovered: 24999999.99999927 | Infected_Percentage_Population: 0.000000\n",
            "Week: 40 | Infected: 7.330780449301322e-07 | Recovered: 24999999.99999927 | Infected_Percentage_Population: 0.000000\n",
            "Week: 41 | Infected: 7.330780449301305e-07 | Recovered: 24999999.99999927 | Infected_Percentage_Population: 0.000000\n",
            "Week: 42 | Infected: 4.398468269580775e-08 | Recovered: 24999999.99999996 | Infected_Percentage_Population: 0.000000\n",
            "Week: 43 | Infected: 4.3984682695807646e-08 | Recovered: 24999999.99999996 | Infected_Percentage_Population: 0.000000\n",
            "Week: 44 | Infected: 4.398468269580754e-08 | Recovered: 24999999.99999996 | Infected_Percentage_Population: 0.000000\n",
            "Week: 45 | Infected: 2.639080961748446e-09 | Recovered: 25000000.0 | Infected_Percentage_Population: 0.000000\n",
            "Week: 46 | Infected: 2.6390809617484407e-09 | Recovered: 25000000.0 | Infected_Percentage_Population: 0.000000\n",
            "Week: 47 | Infected: 2.6390809617484353e-09 | Recovered: 25000000.0 | Infected_Percentage_Population: 0.000000\n",
            "Week: 48 | Infected: 1.5834485770490574e-10 | Recovered: 25000000.000000004 | Infected_Percentage_Population: 0.000000\n",
            "Week: 49 | Infected: 1.5834485770490525e-10 | Recovered: 25000000.000000004 | Infected_Percentage_Population: 0.000000\n",
            "Week: 50 | Infected: 1.5834485770490476e-10 | Recovered: 25000000.000000004 | Infected_Percentage_Population: 0.000000\n",
            "Week: 51 | Infected: 9.500691462294272e-12 | Recovered: 25000000.000000004 | Infected_Percentage_Population: 0.000000\n",
            "Week: 52 | Infected: 9.500691462294243e-12 | Recovered: 25000000.000000004 | Infected_Percentage_Population: 0.000000\n",
            "Week: 53 | Infected: 9.500691462294214e-12 | Recovered: 25000000.000000004 | Infected_Percentage_Population: 0.000000\n",
            "Week: 54 | Infected: 5.700414877376524e-13 | Recovered: 25000000.000000004 | Infected_Percentage_Population: 0.000000\n",
            "Week: 55 | Infected: 5.700414877376507e-13 | Recovered: 25000000.000000004 | Infected_Percentage_Population: 0.000000\n",
            "Week: 56 | Infected: 5.700414877376489e-13 | Recovered: 25000000.000000004 | Infected_Percentage_Population: 0.000000\n",
            "Week: 57 | Infected: 3.420248926425883e-14 | Recovered: 25000000.000000004 | Infected_Percentage_Population: 0.000000\n",
            "Week: 58 | Infected: 3.420248926425873e-14 | Recovered: 25000000.000000004 | Infected_Percentage_Population: 0.000000\n",
            "Week: 59 | Infected: 3.420248926425863e-14 | Recovered: 25000000.000000004 | Infected_Percentage_Population: 0.000000\n",
            "Week: 60 | Infected: 2.0521493558555135e-15 | Recovered: 25000000.000000004 | Infected_Percentage_Population: 0.000000\n",
            "Week: 61 | Infected: 2.052149355855507e-15 | Recovered: 25000000.000000004 | Infected_Percentage_Population: 0.000000\n",
            "Week: 62 | Infected: 2.052149355855501e-15 | Recovered: 25000000.000000004 | Infected_Percentage_Population: 0.000000\n",
            "Week: 63 | Infected: 1.2312896135132966e-16 | Recovered: 25000000.000000004 | Infected_Percentage_Population: 0.000000\n",
            "Week: 64 | Infected: 1.2312896135132929e-16 | Recovered: 25000000.000000004 | Infected_Percentage_Population: 0.000000\n",
            "Week: 65 | Infected: 1.2312896135132892e-16 | Recovered: 25000000.000000004 | Infected_Percentage_Population: 0.000000\n",
            "Week: 66 | Infected: 7.387737681079713e-18 | Recovered: 25000000.000000004 | Infected_Percentage_Population: 0.000000\n",
            "Week: 67 | Infected: 7.387737681079692e-18 | Recovered: 25000000.000000004 | Infected_Percentage_Population: 0.000000\n",
            "Week: 68 | Infected: 7.38773768107967e-18 | Recovered: 25000000.000000004 | Infected_Percentage_Population: 0.000000\n",
            "Week: 69 | Infected: 4.4326426086477855e-19 | Recovered: 25000000.000000004 | Infected_Percentage_Population: 0.000000\n"
          ],
          "name": "stdout"
        },
        {
          "output_type": "display_data",
          "data": {
            "image/png": "[encoded data removed]",
            "text/plain": [
              "<Figure size 432x288 with 1 Axes>"
            ]
          },
          "metadata": {
            "tags": []
          }
        }
      ]
    }
  ]
}