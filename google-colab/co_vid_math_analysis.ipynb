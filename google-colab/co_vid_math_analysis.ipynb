{
  "nbformat": 4,
  "nbformat_minor": 0,
  "metadata": {
    "colab": {
      "name": "co-vid_math_analysis.ipynb",
      "provenance": [],
      "collapsed_sections": [],
      "authorship_tag": "ABX9TyNHlbaF5dd0Jov89kWr2ovX",
      "include_colab_link": true
    },
    "kernelspec": {
      "name": "python3",
      "display_name": "Python 3"
    }
  },
  "cells": [
    {
      "cell_type": "markdown",
      "metadata": {
        "id": "view-in-github",
        "colab_type": "text"
      },
      "source": [
        "<a href=\"https://colab.research.google.com/github/komal-SkyNET/ai-neural-networks/blob/master/google-colab/co_vid_math_analysis.ipynb\" target=\"_parent\"><img src=\"https://colab.research.google.com/assets/colab-badge.svg\" alt=\"Open In Colab\"/></a>"
      ]
    },
    {
      "cell_type": "markdown",
      "metadata": {
        "id": "W8yDRGN39DJs",
        "colab_type": "text"
      },
      "source": [
        "\n",
        "\n",
        "---\n",
        "\n",
        "\n",
        "# Mathematical analysis of epidemic's (CoVID19) exponential growth and significant factors \n",
        "\n",
        "---\n",
        "\n",
        "![image.png](data:image/png;base64,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)\n"
      ]
    },
    {
      "cell_type": "code",
      "metadata": {
        "id": "gw46yzc5EcvN",
        "colab_type": "code",
        "colab": {}
      },
      "source": [
        "import matplotlib.pyplot as plt\n",
        "# from __future__ import division"
      ],
      "execution_count": 0,
      "outputs": []
    },
    {
      "cell_type": "code",
      "metadata": {
        "id": "j9oCppSjoNrm",
        "colab_type": "code",
        "colab": {}
      },
      "source": [
        "class Country:\n",
        "\n",
        "  def __init__(self, pop_size=10000):\n",
        "    self.pop_size = pop_size\n",
        "    self.infected_size = 1\n",
        "    self.recovered_size = 0\n",
        "    self.new_infections = 0\n",
        "\n",
        "  def run_epoch(self, trans_prob, is_recover, recovery_rate):\n",
        "    # new infections propotional to uninfected people & can't affect recovered people (not considering mutation scenario)\n",
        "    self.new_infections = (self.pop_size - self.recovered_size - self.infected_size) * min(1, (trans_prob * self.infected_size))\n",
        "    self.infected_size += self.new_infections\n",
        "    if is_recover:\n",
        "      self.recovered_size += (self.infected_size * recovery_rate)\n",
        "      self.infected_size = self.infected_size - (self.infected_size * recovery_rate)\n",
        "\n"
      ],
      "execution_count": 0,
      "outputs": []
    },
    {
      "cell_type": "code",
      "metadata": {
        "id": "fyu-c6l1nkTS",
        "colab_type": "code",
        "colab": {}
      },
      "source": [
        "class World:\n",
        "\n",
        "  def __init__(self, num_countries, pop_size):\n",
        "    self.countries =[]\n",
        "    for i in range(num_countries):\n",
        "      self.countries.append(Country(pop_size))\n",
        "    "
      ],
      "execution_count": 0,
      "outputs": []
    },
    {
      "cell_type": "code",
      "metadata": {
        "id": "NDI12yTVpBpd",
        "colab_type": "code",
        "colab": {}
      },
      "source": [
        "class Epoch:\n",
        "\n",
        "  def __init__(self, num_epoch, recovery_rate, transmission_probability, world):\n",
        "    self.recovery_rate = recovery_rate\n",
        "    self.transmission_probability = transmission_probability\n",
        "    self.world = world\n",
        "    self.num_epoch = num_epoch\n",
        "    self.infected_size_trend = []\n",
        "\n",
        "  def run(self):\n",
        "    for i in range(1, self.num_epoch):\n",
        "      for country in self.world.countries:\n",
        "        # i%3==0; say 3 weeks is the time taken to know the outcome of infected patients\n",
        "        country.run_epoch(self.transmission_probability, i%3==0, self.recovery_rate)\n",
        "        print(\"Week: %s | Infected: %s | Recovered: %s | Infected_Percentage_Population: %f\" % (i, country.infected_size, country.recovered_size, 100*country.infected_size/country.pop_size))\n",
        "        self.infected_size_trend.append(country.infected_size)\n"
      ],
      "execution_count": 0,
      "outputs": []
    },
    {
      "cell_type": "code",
      "metadata": {
        "id": "3EZUhfK8qvhL",
        "colab_type": "code",
        "colab": {
          "base_uri": "https://localhost:8080/",
          "height": 1000
        },
        "outputId": "ffafb40c-e947-49cf-ca5b-611864e04698"
      },
      "source": [
        "pop_size = 25000000\n",
        "x = 20\n",
        "transmission_rate = x / pop_size # say, X people can get infected by 1 infected person\n",
        "recovery_rate = 0.94 # as per https://www.worldometers.info/coronavirus/\n",
        "w = World(1, pop_size)\n",
        "epoch = Epoch(70, recovery_rate, transmission_rate, w)\n",
        "epoch.run()\n",
        "plt.plot(epoch.infected_size_trend)\n",
        "plt.xlabel('Weeks')\n",
        "plt.ylabel('Total cases')\n",
        "plt.show()"
      ],
      "execution_count": 43,
      "outputs": [
        {
          "output_type": "stream",
          "text": [
            "Week: 1 | Infected: 20.999999199999998 | Recovered: 0 | Infected_Percentage_Population: 0.000084\n",
            "Week: 2 | Infected: 440.9996304000268 | Recovered: 0 | Infected_Percentage_Population: 0.001764\n",
            "Week: 3 | Infected: 555.6501992316807 | Recovered: 8705.186454629671 | Infected_Percentage_Population: 0.002223\n",
            "Week: 4 | Infected: 11664.537555279878 | Recovered: 8705.186454629671 | Infected_Percentage_Population: 0.046658\n",
            "Week: 5 | Infected: 244765.20593231395 | Recovered: 8705.186454629671 | Infected_Percentage_Population: 0.979061\n",
            "Week: 6 | Infected: 305426.20430077985 | Recovered: 4793715.720500173 | Infected_Percentage_Population: 1.221705\n",
            "Week: 7 | Infected: 5168021.039690034 | Recovered: 4793715.720500173 | Infected_Percentage_Population: 20.672084\n",
            "Week: 8 | Infected: 20206284.27949983 | Recovered: 4793715.720500173 | Infected_Percentage_Population: 80.825137\n",
            "Week: 9 | Infected: 1212377.0567699894 | Recovered: 23787622.94323001 | Infected_Percentage_Population: 4.849508\n",
            "Week: 10 | Infected: 1212377.0567699894 | Recovered: 23787622.94323001 | Infected_Percentage_Population: 4.849508\n",
            "Week: 11 | Infected: 1212377.0567699894 | Recovered: 23787622.94323001 | Infected_Percentage_Population: 4.849508\n",
            "Week: 12 | Infected: 72742.6234061995 | Recovered: 24927257.376593802 | Infected_Percentage_Population: 0.290970\n",
            "Week: 13 | Infected: 72742.6234061994 | Recovered: 24927257.376593802 | Infected_Percentage_Population: 0.290970\n",
            "Week: 14 | Infected: 72742.62340619932 | Recovered: 24927257.376593802 | Infected_Percentage_Population: 0.290970\n",
            "Week: 15 | Infected: 4364.557404371953 | Recovered: 24995635.44259563 | Infected_Percentage_Population: 0.017458\n",
            "Week: 16 | Infected: 4364.557404371943 | Recovered: 24995635.44259563 | Infected_Percentage_Population: 0.017458\n",
            "Week: 17 | Infected: 4364.557404371933 | Recovered: 24995635.44259563 | Infected_Percentage_Population: 0.017458\n",
            "Week: 18 | Infected: 261.8734442623154 | Recovered: 24999738.12655574 | Infected_Percentage_Population: 0.001047\n",
            "Week: 19 | Infected: 261.8734442623147 | Recovered: 24999738.12655574 | Infected_Percentage_Population: 0.001047\n",
            "Week: 20 | Infected: 261.873444262314 | Recovered: 24999738.12655574 | Infected_Percentage_Population: 0.001047\n",
            "Week: 21 | Infected: 15.712406655738818 | Recovered: 24999984.287593346 | Infected_Percentage_Population: 0.000063\n",
            "Week: 22 | Infected: 15.712406655738794 | Recovered: 24999984.287593346 | Infected_Percentage_Population: 0.000063\n",
            "Week: 23 | Infected: 15.712406655738771 | Recovered: 24999984.287593346 | Infected_Percentage_Population: 0.000063\n",
            "Week: 24 | Infected: 0.9427443993443259 | Recovered: 24999999.057255603 | Infected_Percentage_Population: 0.000004\n",
            "Week: 25 | Infected: 0.9427443993443239 | Recovered: 24999999.057255603 | Infected_Percentage_Population: 0.000004\n",
            "Week: 26 | Infected: 0.9427443993443219 | Recovered: 24999999.057255603 | Infected_Percentage_Population: 0.000004\n",
            "Week: 27 | Infected: 0.05656466396065929 | Recovered: 24999999.943435337 | Infected_Percentage_Population: 0.000000\n",
            "Week: 28 | Infected: 0.05656466396065923 | Recovered: 24999999.943435337 | Infected_Percentage_Population: 0.000000\n",
            "Week: 29 | Infected: 0.056564663960659164 | Recovered: 24999999.943435337 | Infected_Percentage_Population: 0.000000\n",
            "Week: 30 | Infected: 0.0033938798376395504 | Recovered: 24999999.996606123 | Infected_Percentage_Population: 0.000000\n",
            "Week: 31 | Infected: 0.0033938798376395435 | Recovered: 24999999.996606123 | Infected_Percentage_Population: 0.000000\n",
            "Week: 32 | Infected: 0.0033938798376395365 | Recovered: 24999999.996606123 | Infected_Percentage_Population: 0.000000\n",
            "Week: 33 | Infected: 0.0002036327902583718 | Recovered: 24999999.99979637 | Infected_Percentage_Population: 0.000000\n",
            "Week: 34 | Infected: 0.00020363279025837163 | Recovered: 24999999.99979637 | Infected_Percentage_Population: 0.000000\n",
            "Week: 35 | Infected: 0.00020363279025837147 | Recovered: 24999999.99979637 | Infected_Percentage_Population: 0.000000\n",
            "Week: 36 | Infected: 1.2217967415502302e-05 | Recovered: 24999999.999987785 | Infected_Percentage_Population: 0.000000\n",
            "Week: 37 | Infected: 1.2217967415502275e-05 | Recovered: 24999999.999987785 | Infected_Percentage_Population: 0.000000\n",
            "Week: 38 | Infected: 1.2217967415502248e-05 | Recovered: 24999999.999987785 | Infected_Percentage_Population: 0.000000\n",
            "Week: 39 | Infected: 7.330780449301339e-07 | Recovered: 24999999.99999927 | Infected_Percentage_Population: 0.000000\n",
            "Week: 40 | Infected: 7.330780449301322e-07 | Recovered: 24999999.99999927 | Infected_Percentage_Population: 0.000000\n",
            "Week: 41 | Infected: 7.330780449301305e-07 | Recovered: 24999999.99999927 | Infected_Percentage_Population: 0.000000\n",
            "Week: 42 | Infected: 4.398468269580775e-08 | Recovered: 24999999.99999996 | Infected_Percentage_Population: 0.000000\n",
            "Week: 43 | Infected: 4.3984682695807646e-08 | Recovered: 24999999.99999996 | Infected_Percentage_Population: 0.000000\n",
            "Week: 44 | Infected: 4.398468269580754e-08 | Recovered: 24999999.99999996 | Infected_Percentage_Population: 0.000000\n",
            "Week: 45 | Infected: 2.639080961748446e-09 | Recovered: 25000000.0 | Infected_Percentage_Population: 0.000000\n",
            "Week: 46 | Infected: 2.6390809617484407e-09 | Recovered: 25000000.0 | Infected_Percentage_Population: 0.000000\n",
            "Week: 47 | Infected: 2.6390809617484353e-09 | Recovered: 25000000.0 | Infected_Percentage_Population: 0.000000\n",
            "Week: 48 | Infected: 1.5834485770490574e-10 | Recovered: 25000000.000000004 | Infected_Percentage_Population: 0.000000\n",
            "Week: 49 | Infected: 1.5834485770490525e-10 | Recovered: 25000000.000000004 | Infected_Percentage_Population: 0.000000\n",
            "Week: 50 | Infected: 1.5834485770490476e-10 | Recovered: 25000000.000000004 | Infected_Percentage_Population: 0.000000\n",
            "Week: 51 | Infected: 9.500691462294272e-12 | Recovered: 25000000.000000004 | Infected_Percentage_Population: 0.000000\n",
            "Week: 52 | Infected: 9.500691462294243e-12 | Recovered: 25000000.000000004 | Infected_Percentage_Population: 0.000000\n",
            "Week: 53 | Infected: 9.500691462294214e-12 | Recovered: 25000000.000000004 | Infected_Percentage_Population: 0.000000\n",
            "Week: 54 | Infected: 5.700414877376524e-13 | Recovered: 25000000.000000004 | Infected_Percentage_Population: 0.000000\n",
            "Week: 55 | Infected: 5.700414877376507e-13 | Recovered: 25000000.000000004 | Infected_Percentage_Population: 0.000000\n",
            "Week: 56 | Infected: 5.700414877376489e-13 | Recovered: 25000000.000000004 | Infected_Percentage_Population: 0.000000\n",
            "Week: 57 | Infected: 3.420248926425883e-14 | Recovered: 25000000.000000004 | Infected_Percentage_Population: 0.000000\n",
            "Week: 58 | Infected: 3.420248926425873e-14 | Recovered: 25000000.000000004 | Infected_Percentage_Population: 0.000000\n",
            "Week: 59 | Infected: 3.420248926425863e-14 | Recovered: 25000000.000000004 | Infected_Percentage_Population: 0.000000\n",
            "Week: 60 | Infected: 2.0521493558555135e-15 | Recovered: 25000000.000000004 | Infected_Percentage_Population: 0.000000\n",
            "Week: 61 | Infected: 2.052149355855507e-15 | Recovered: 25000000.000000004 | Infected_Percentage_Population: 0.000000\n",
            "Week: 62 | Infected: 2.052149355855501e-15 | Recovered: 25000000.000000004 | Infected_Percentage_Population: 0.000000\n",
            "Week: 63 | Infected: 1.2312896135132966e-16 | Recovered: 25000000.000000004 | Infected_Percentage_Population: 0.000000\n",
            "Week: 64 | Infected: 1.2312896135132929e-16 | Recovered: 25000000.000000004 | Infected_Percentage_Population: 0.000000\n",
            "Week: 65 | Infected: 1.2312896135132892e-16 | Recovered: 25000000.000000004 | Infected_Percentage_Population: 0.000000\n",
            "Week: 66 | Infected: 7.387737681079713e-18 | Recovered: 25000000.000000004 | Infected_Percentage_Population: 0.000000\n",
            "Week: 67 | Infected: 7.387737681079692e-18 | Recovered: 25000000.000000004 | Infected_Percentage_Population: 0.000000\n",
            "Week: 68 | Infected: 7.38773768107967e-18 | Recovered: 25000000.000000004 | Infected_Percentage_Population: 0.000000\n",
            "Week: 69 | Infected: 4.4326426086477855e-19 | Recovered: 25000000.000000004 | Infected_Percentage_Population: 0.000000\n"
          ],
          "name": "stdout"
        },
        {
          "output_type": "display_data",
          "data": {
            "image/png": "[encoded data removed]",
            "text/plain": [
              "<Figure size 432x288 with 1 Axes>"
            ]
          },
          "metadata": {
            "tags": []
          }
        }
      ]
    }
  ]
}