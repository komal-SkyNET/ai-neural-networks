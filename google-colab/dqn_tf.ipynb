{
  "nbformat": 4,
  "nbformat_minor": 0,
  "metadata": {
    "colab": {
      "name": "dqn_tf.ipynb",
      "provenance": [],
      "authorship_tag": "ABX9TyOBkcY7C8ALsmioD9aiGeW5",
      "include_colab_link": true
    },
    "kernelspec": {
      "name": "python3",
      "display_name": "Python 3"
    }
  },
  "cells": [
    {
      "cell_type": "markdown",
      "metadata": {
        "id": "view-in-github",
        "colab_type": "text"
      },
      "source": [
        "<a href=\"https://colab.research.google.com/github/komal-SkyNET/ai-neural-networks/blob/master/google-colab/dqn_tf.ipynb\" target=\"_parent\"><img src=\"https://colab.research.google.com/assets/colab-badge.svg\" alt=\"Open In Colab\"/></a>"
      ]
    },
    {
      "cell_type": "code",
      "metadata": {
        "id": "t36ycMcUkky8",
        "colab_type": "code",
        "outputId": "3e775e60-4793-47fe-d734-7fb672cb6862",
        "colab": {
          "base_uri": "https://localhost:8080/",
          "height": 34
        }
      },
      "source": [
        "%tensorflow_version 2.x"
      ],
      "execution_count": 0,
      "outputs": [
        {
          "output_type": "stream",
          "text": [
            "TensorFlow 2.x selected.\n"
          ],
          "name": "stdout"
        }
      ]
    },
    {
      "cell_type": "code",
      "metadata": {
        "id": "bAx1lY0dk2Uv",
        "colab_type": "code",
        "outputId": "0eed3755-29de-4861-df83-37bb987060ea",
        "colab": {
          "base_uri": "https://localhost:8080/",
          "height": 734
        }
      },
      "source": [
        "!sudo apt-get install -y xvfb ffmpeg x11-utils\n",
        "!pip install 'gym==0.10.11'\n",
        "!pip install 'imageio==2.4.0'\n",
        "!pip install PILLOW\n",
        "!pip install 'pyglet==1.3.2'\n",
        "!pip install pyvirtualdisplay\n",
        "!pip install --upgrade tensorflow-probability\n",
        "!pip install tf-agents"
      ],
      "execution_count": 0,
      "outputs": [
        {
          "output_type": "stream",
          "text": [
            "Reading package lists... Done\n",
            "Building dependency tree       \n",
            "Reading state information... Done\n",
            "x11-utils is already the newest version (7.7+3build1).\n",
            "ffmpeg is already the newest version (7:3.4.6-0ubuntu0.18.04.1).\n",
            "xvfb is already the newest version (2:1.19.6-1ubuntu4.4).\n",
            "0 upgraded, 0 newly installed, 0 to remove and 25 not upgraded.\n",
            "Requirement already satisfied: gym==0.10.11 in /usr/local/lib/python3.6/dist-packages (0.10.11)\n",
            "Requirement already satisfied: six in /tensorflow-2.1.0/python3.6 (from gym==0.10.11) (1.14.0)\n",
            "Requirement already satisfied: scipy in /tensorflow-2.1.0/python3.6 (from gym==0.10.11) (1.4.1)\n",
            "Requirement already satisfied: pyglet>=1.2.0 in /usr/local/lib/python3.6/dist-packages (from gym==0.10.11) (1.3.2)\n",
            "Requirement already satisfied: requests>=2.0 in /tensorflow-2.1.0/python3.6 (from gym==0.10.11) (2.23.0)\n",
            "Requirement already satisfied: numpy>=1.10.4 in /tensorflow-2.1.0/python3.6 (from gym==0.10.11) (1.18.1)\n",
            "Requirement already satisfied: future in /usr/local/lib/python3.6/dist-packages (from pyglet>=1.2.0->gym==0.10.11) (0.16.0)\n",
            "Requirement already satisfied: urllib3!=1.25.0,!=1.25.1,<1.26,>=1.21.1 in /tensorflow-2.1.0/python3.6 (from requests>=2.0->gym==0.10.11) (1.25.8)\n",
            "Requirement already satisfied: certifi>=2017.4.17 in /tensorflow-2.1.0/python3.6 (from requests>=2.0->gym==0.10.11) (2019.11.28)\n",
            "Requirement already satisfied: chardet<4,>=3.0.2 in /tensorflow-2.1.0/python3.6 (from requests>=2.0->gym==0.10.11) (3.0.4)\n",
            "Requirement already satisfied: idna<3,>=2.5 in /tensorflow-2.1.0/python3.6 (from requests>=2.0->gym==0.10.11) (2.9)\n",
            "Requirement already satisfied: imageio==2.4.0 in /usr/local/lib/python3.6/dist-packages (2.4.0)\n",
            "Requirement already satisfied: numpy in /tensorflow-2.1.0/python3.6 (from imageio==2.4.0) (1.18.1)\n",
            "Requirement already satisfied: pillow in /usr/local/lib/python3.6/dist-packages (from imageio==2.4.0) (6.2.2)\n",
            "Requirement already satisfied: PILLOW in /usr/local/lib/python3.6/dist-packages (6.2.2)\n",
            "Requirement already satisfied: pyglet==1.3.2 in /usr/local/lib/python3.6/dist-packages (1.3.2)\n",
            "Requirement already satisfied: future in /usr/local/lib/python3.6/dist-packages (from pyglet==1.3.2) (0.16.0)\n",
            "Requirement already satisfied: pyvirtualdisplay in /usr/local/lib/python3.6/dist-packages (0.2.5)\n",
            "Requirement already satisfied: EasyProcess in /usr/local/lib/python3.6/dist-packages (from pyvirtualdisplay) (0.2.10)\n",
            "Requirement already up-to-date: tensorflow-probability in /tensorflow-2.1.0/python3.6 (0.9.0)\n",
            "Requirement already satisfied, skipping upgrade: six>=1.10.0 in /tensorflow-2.1.0/python3.6 (from tensorflow-probability) (1.14.0)\n",
            "Requirement already satisfied, skipping upgrade: cloudpickle>=1.2.2 in /usr/local/lib/python3.6/dist-packages (from tensorflow-probability) (1.2.2)\n",
            "Requirement already satisfied, skipping upgrade: numpy>=1.13.3 in /tensorflow-2.1.0/python3.6 (from tensorflow-probability) (1.18.1)\n",
            "Requirement already satisfied, skipping upgrade: gast>=0.2 in /tensorflow-2.1.0/python3.6 (from tensorflow-probability) (0.2.2)\n",
            "Requirement already satisfied, skipping upgrade: decorator in /usr/local/lib/python3.6/dist-packages (from tensorflow-probability) (4.4.1)\n",
            "Requirement already satisfied: tf-agents in /usr/local/lib/python3.6/dist-packages (0.3.0)\n",
            "Requirement already satisfied: tensorflow-probability>=0.6.0 in /tensorflow-2.1.0/python3.6 (from tf-agents) (0.9.0)\n",
            "Requirement already satisfied: numpy>=1.13.3 in /tensorflow-2.1.0/python3.6 (from tf-agents) (1.18.1)\n",
            "Requirement already satisfied: absl-py>=0.6.1 in /tensorflow-2.1.0/python3.6 (from tf-agents) (0.9.0)\n",
            "Requirement already satisfied: six>=1.10.0 in /tensorflow-2.1.0/python3.6 (from tf-agents) (1.14.0)\n",
            "Requirement already satisfied: gin-config==0.1.3 in /usr/local/lib/python3.6/dist-packages (from tf-agents) (0.1.3)\n",
            "Requirement already satisfied: decorator in /usr/local/lib/python3.6/dist-packages (from tensorflow-probability>=0.6.0->tf-agents) (4.4.1)\n",
            "Requirement already satisfied: cloudpickle>=1.2.2 in /usr/local/lib/python3.6/dist-packages (from tensorflow-probability>=0.6.0->tf-agents) (1.2.2)\n",
            "Requirement already satisfied: gast>=0.2 in /tensorflow-2.1.0/python3.6 (from tensorflow-probability>=0.6.0->tf-agents) (0.2.2)\n"
          ],
          "name": "stdout"
        }
      ]
    },
    {
      "cell_type": "code",
      "metadata": {
        "id": "zS5MJsGkl7B1",
        "colab_type": "code",
        "colab": {}
      },
      "source": [
        "from __future__ import absolute_import, division, print_function\n",
        "\n",
        "import base64\n",
        "import imageio\n",
        "import IPython\n",
        "import matplotlib\n",
        "import matplotlib.pyplot as plt\n",
        "import numpy as np\n",
        "import PIL.Image\n",
        "import pyvirtualdisplay\n",
        "\n",
        "import tensorflow as tf\n",
        "\n",
        "from tf_agents.agents.dqn import dqn_agent\n",
        "from tf_agents.drivers import dynamic_step_driver\n",
        "from tf_agents.environments import suite_gym\n",
        "from tf_agents.environments import tf_py_environment\n",
        "from tf_agents.eval import metric_utils\n",
        "from tf_agents.metrics import tf_metrics\n",
        "from tf_agents.networks import q_network\n",
        "from tf_agents.policies import random_tf_policy\n",
        "from tf_agents.replay_buffers import tf_uniform_replay_buffer\n",
        "from tf_agents.trajectories import trajectory\n",
        "from tf_agents.utils import common"
      ],
      "execution_count": 0,
      "outputs": []
    },
    {
      "cell_type": "code",
      "metadata": {
        "id": "elVBg9i6mEnP",
        "colab_type": "code",
        "colab": {}
      },
      "source": [
        "tf.compat.v1.enable_v2_behavior()\n",
        "\n",
        "# Set up a virtual display for rendering OpenAI gym environments.\n",
        "display = pyvirtualdisplay.Display(visible=0, size=(1400, 900)).start()"
      ],
      "execution_count": 0,
      "outputs": []
    },
    {
      "cell_type": "code",
      "metadata": {
        "id": "WqqTKG6SnjKX",
        "colab_type": "code",
        "outputId": "3dcb579b-2157-4b44-c3bb-26d9b609acee",
        "colab": {
          "base_uri": "https://localhost:8080/",
          "height": 34
        }
      },
      "source": [
        "tf.version.VERSION"
      ],
      "execution_count": 0,
      "outputs": [
        {
          "output_type": "execute_result",
          "data": {
            "text/plain": [
              "'2.1.0'"
            ]
          },
          "metadata": {
            "tags": []
          },
          "execution_count": 5
        }
      ]
    },
    {
      "cell_type": "code",
      "metadata": {
        "id": "yXcPDHo3oKBu",
        "colab_type": "code",
        "colab": {}
      },
      "source": [
        "num_iterations = 20000 # @param {type:\"integer\"}\n",
        "\n",
        "initial_collect_steps = 1000  # @param {type:\"integer\"} \n",
        "collect_steps_per_iteration = 1  # @param {type:\"integer\"}\n",
        "replay_buffer_max_length = 100000  # @param {type:\"integer\"}\n",
        "\n",
        "batch_size = 64  # @param {type:\"integer\"}\n",
        "learning_rate = 1e-3  # @param {type:\"number\"}\n",
        "log_interval = 200  # @param {type:\"integer\"}\n",
        "\n",
        "num_eval_episodes = 10  # @param {type:\"integer\"}\n",
        "eval_interval = 1000  # @param {type:\"integer\"}"
      ],
      "execution_count": 0,
      "outputs": []
    },
    {
      "cell_type": "code",
      "metadata": {
        "id": "ymDqVJ0NoOAj",
        "colab_type": "code",
        "colab": {}
      },
      "source": [
        "env_name = 'CartPole-v0'\n",
        "env = suite_gym.load(env_name)"
      ],
      "execution_count": 0,
      "outputs": []
    },
    {
      "cell_type": "code",
      "metadata": {
        "id": "DcfnrZtjoXbr",
        "colab_type": "code",
        "colab": {}
      },
      "source": [
        "#@test {\"skip\": true}\n",
        "env.reset()\n",
        "PIL.Image.fromarray(env.render())"
      ],
      "execution_count": 0,
      "outputs": []
    },
    {
      "cell_type": "code",
      "metadata": {
        "id": "afheXL4UpKMB",
        "colab_type": "code",
        "outputId": "86e99f16-e4d2-4779-873c-d8a52f630cc4",
        "colab": {
          "base_uri": "https://localhost:8080/",
          "height": 71
        }
      },
      "source": [
        "print('Observation Spec:')\n",
        "print(env.time_step_spec().observation)"
      ],
      "execution_count": 0,
      "outputs": [
        {
          "output_type": "stream",
          "text": [
            "Observation Spec:\n",
            "BoundedArraySpec(shape=(4,), dtype=dtype('float32'), name='observation', minimum=[-4.8000002e+00 -3.4028235e+38 -4.1887903e-01 -3.4028235e+38], maximum=[4.8000002e+00 3.4028235e+38 4.1887903e-01 3.4028235e+38])\n"
          ],
          "name": "stdout"
        }
      ]
    },
    {
      "cell_type": "code",
      "metadata": {
        "id": "afr8sQKepW7E",
        "colab_type": "code",
        "outputId": "9f1cf1fa-ff06-4b6f-85f8-0f42acfa358c",
        "colab": {
          "base_uri": "https://localhost:8080/",
          "height": 51
        }
      },
      "source": [
        "print('Reward Spec:')\n",
        "print(env.time_step_spec().reward)"
      ],
      "execution_count": 0,
      "outputs": [
        {
          "output_type": "stream",
          "text": [
            "Reward Spec:\n",
            "ArraySpec(shape=(), dtype=dtype('float32'), name='reward')\n"
          ],
          "name": "stdout"
        }
      ]
    },
    {
      "cell_type": "code",
      "metadata": {
        "id": "ip4MyUYnpeXt",
        "colab_type": "code",
        "outputId": "7ec77f34-ee03-4343-9153-2619b4b2057f",
        "colab": {
          "base_uri": "https://localhost:8080/",
          "height": 51
        }
      },
      "source": [
        "print('Action Spec:')\n",
        "print(env.action_spec())"
      ],
      "execution_count": 0,
      "outputs": [
        {
          "output_type": "stream",
          "text": [
            "Action Spec:\n",
            "BoundedArraySpec(shape=(), dtype=dtype('int64'), name='action', minimum=0, maximum=1)\n"
          ],
          "name": "stdout"
        }
      ]
    },
    {
      "cell_type": "markdown",
      "metadata": {
        "id": "l_pLnTWZprCG",
        "colab_type": "text"
      },
      "source": [
        "\n",
        "In the Cartpole environment:\n",
        "\n",
        "* observation is an array of 4 floats:\n",
        "  * the position and velocity of the cart\n",
        "\n",
        "  * the angular position and velocity of the pole\n",
        "* reward is a scalar float value\n",
        "* action is a scalar integer with only two possible values:\n",
        "    * 0 — \"move left\"\n",
        "    * 1 — \"move right\""
      ]
    },
    {
      "cell_type": "code",
      "metadata": {
        "id": "6AgUPolHph-6",
        "colab_type": "code",
        "outputId": "3442455d-cdf3-413d-cf8a-bb2f2fdf1be2",
        "colab": {
          "base_uri": "https://localhost:8080/",
          "height": 105
        }
      },
      "source": [
        "time_step = env.reset()\n",
        "print('Time step:')\n",
        "print(time_step)\n",
        "\n",
        "action = np.array(1, dtype=np.int32)\n",
        "\n",
        "next_time_step = env.step(action)\n",
        "print('Next time step:')\n",
        "print(next_time_step)"
      ],
      "execution_count": 0,
      "outputs": [
        {
          "output_type": "stream",
          "text": [
            "Time step:\n",
            "TimeStep(step_type=array(0, dtype=int32), reward=array(0., dtype=float32), discount=array(1., dtype=float32), observation=array([ 0.04663826, -0.02248936, -0.00737375,  0.04910868], dtype=float32))\n",
            "Next time step:\n",
            "TimeStep(step_type=array(1, dtype=int32), reward=array(1., dtype=float32), discount=array(1., dtype=float32), observation=array([ 0.04618847,  0.17273754, -0.00639158, -0.24589159], dtype=float32))\n"
          ],
          "name": "stdout"
        }
      ]
    },
    {
      "cell_type": "code",
      "metadata": {
        "id": "sD5mJ7SgqiXb",
        "colab_type": "code",
        "colab": {}
      },
      "source": [
        "train_py_env = suite_gym.load(env_name)\n",
        "eval_py_env = suite_gym.load(env_name)"
      ],
      "execution_count": 0,
      "outputs": []
    },
    {
      "cell_type": "code",
      "metadata": {
        "id": "AtkSHVlwq_Jp",
        "colab_type": "code",
        "colab": {}
      },
      "source": [
        "train_env = tf_py_environment.TFPyEnvironment(train_py_env)\n",
        "eval_env = tf_py_environment.TFPyEnvironment(eval_py_env)"
      ],
      "execution_count": 0,
      "outputs": []
    },
    {
      "cell_type": "markdown",
      "metadata": {
        "id": "m1-wFi_3rF_S",
        "colab_type": "text"
      },
      "source": [
        "Agent"
      ]
    },
    {
      "cell_type": "code",
      "metadata": {
        "id": "jgn0koGIrET8",
        "colab_type": "code",
        "colab": {}
      },
      "source": [
        "fc_layer_params = (100,) # @param\n",
        "\n",
        "q_net = q_network.QNetwork(\n",
        "    train_env.observation_spec(),\n",
        "    train_env.action_spec(),\n",
        "    fc_layer_params=fc_layer_params)"
      ],
      "execution_count": 0,
      "outputs": []
    },
    {
      "cell_type": "code",
      "metadata": {
        "id": "leX5wOiKrwMz",
        "colab_type": "code",
        "colab": {}
      },
      "source": [
        "optimizer = tf.compat.v1.train.AdamOptimizer(learning_rate=learning_rate)\n",
        "\n",
        "train_step_counter = tf.Variable(0)\n",
        "\n",
        "agent = dqn_agent.DqnAgent(\n",
        "    train_env.time_step_spec(),\n",
        "    train_env.action_spec(),\n",
        "    q_network=q_net,\n",
        "    optimizer=optimizer,\n",
        "    td_errors_loss_fn=common.element_wise_squared_loss,\n",
        "    train_step_counter=train_step_counter)\n",
        "\n",
        "agent.initialize()"
      ],
      "execution_count": 0,
      "outputs": []
    },
    {
      "cell_type": "code",
      "metadata": {
        "id": "k4iANTgUtTsw",
        "colab_type": "code",
        "colab": {}
      },
      "source": [
        "eval_policy = agent.policy\n",
        "collect_policy = agent.collect_policy"
      ],
      "execution_count": 0,
      "outputs": []
    },
    {
      "cell_type": "code",
      "metadata": {
        "id": "CTBrJgt4tqNj",
        "colab_type": "code",
        "colab": {}
      },
      "source": [
        "random_policy = random_tf_policy.RandomTFPolicy(train_env.time_step_spec(),\n",
        "                                                train_env.action_spec())"
      ],
      "execution_count": 0,
      "outputs": []
    },
    {
      "cell_type": "code",
      "metadata": {
        "id": "HBYjejd_t016",
        "colab_type": "code",
        "colab": {}
      },
      "source": [
        "example_environment = tf_py_environment.TFPyEnvironment(\n",
        "    suite_gym.load('CartPole-v0'))"
      ],
      "execution_count": 0,
      "outputs": []
    },
    {
      "cell_type": "code",
      "metadata": {
        "id": "JtwetO3Zt8fx",
        "colab_type": "code",
        "colab": {}
      },
      "source": [
        "time_step = example_environment.reset()"
      ],
      "execution_count": 0,
      "outputs": []
    },
    {
      "cell_type": "code",
      "metadata": {
        "id": "wvmr14Mbt_2Z",
        "colab_type": "code",
        "outputId": "bca385fa-3ede-4316-eb02-f9b50f13da40",
        "colab": {
          "base_uri": "https://localhost:8080/",
          "height": 34
        }
      },
      "source": [
        "random_policy.action(time_step)"
      ],
      "execution_count": 0,
      "outputs": [
        {
          "output_type": "execute_result",
          "data": {
            "text/plain": [
              "PolicyStep(action=<tf.Tensor: shape=(1,), dtype=int64, numpy=array([1])>, state=(), info=())"
            ]
          },
          "metadata": {
            "tags": []
          },
          "execution_count": 28
        }
      ]
    },
    {
      "cell_type": "code",
      "metadata": {
        "id": "9iTTsxB-uA_d",
        "colab_type": "code",
        "colab": {}
      },
      "source": [
        "#@test {\"skip\": true}\n",
        "def compute_avg_return(environment, policy, num_episodes=10):\n",
        "\n",
        "  total_return = 0.0\n",
        "  for _ in range(num_episodes):\n",
        "\n",
        "    time_step = environment.reset()\n",
        "    episode_return = 0.0\n",
        "\n",
        "    while not time_step.is_last():\n",
        "      action_step = policy.action(time_step)\n",
        "      time_step = environment.step(action_step.action)\n",
        "      episode_return += time_step.reward\n",
        "    total_return += episode_return\n",
        "\n",
        "  avg_return = total_return / num_episodes\n",
        "  return avg_return.numpy()[0]"
      ],
      "execution_count": 0,
      "outputs": []
    },
    {
      "cell_type": "code",
      "metadata": {
        "id": "iwH5f-3MuJk8",
        "colab_type": "code",
        "outputId": "bc857ebb-8e89-41f3-e8b6-d98614441948",
        "colab": {
          "base_uri": "https://localhost:8080/",
          "height": 34
        }
      },
      "source": [
        "compute_avg_return(eval_env, random_policy, num_eval_episodes)"
      ],
      "execution_count": 0,
      "outputs": [
        {
          "output_type": "execute_result",
          "data": {
            "text/plain": [
              "20.8"
            ]
          },
          "metadata": {
            "tags": []
          },
          "execution_count": 41
        }
      ]
    },
    {
      "cell_type": "code",
      "metadata": {
        "id": "P3sBwY40ubB3",
        "colab_type": "code",
        "colab": {}
      },
      "source": [
        "replay_buffer = tf_uniform_replay_buffer.TFUniformReplayBuffer(\n",
        "    data_spec=agent.collect_data_spec,\n",
        "    batch_size=train_env.batch_size,\n",
        "    max_length=replay_buffer_max_length)"
      ],
      "execution_count": 0,
      "outputs": []
    },
    {
      "cell_type": "code",
      "metadata": {
        "id": "wnerzYJUiYRn",
        "colab_type": "code",
        "outputId": "2577f81f-3ab4-4247-e3af-fffe586d1902",
        "colab": {
          "base_uri": "https://localhost:8080/",
          "height": 88
        }
      },
      "source": [
        "agent.collect_data_spec"
      ],
      "execution_count": 0,
      "outputs": [
        {
          "output_type": "execute_result",
          "data": {
            "text/plain": [
              "Trajectory(step_type=TensorSpec(shape=(), dtype=tf.int32, name='step_type'), observation=BoundedTensorSpec(shape=(4,), dtype=tf.float32, name='observation', minimum=array([-4.8000002e+00, -3.4028235e+38, -4.1887903e-01, -3.4028235e+38],\n",
              "      dtype=float32), maximum=array([4.8000002e+00, 3.4028235e+38, 4.1887903e-01, 3.4028235e+38],\n",
              "      dtype=float32)), action=BoundedTensorSpec(shape=(), dtype=tf.int64, name='action', minimum=array(0), maximum=array(1)), policy_info=(), next_step_type=TensorSpec(shape=(), dtype=tf.int32, name='step_type'), reward=TensorSpec(shape=(), dtype=tf.float32, name='reward'), discount=BoundedTensorSpec(shape=(), dtype=tf.float32, name='discount', minimum=array(0., dtype=float32), maximum=array(1., dtype=float32)))"
            ]
          },
          "metadata": {
            "tags": []
          },
          "execution_count": 43
        }
      ]
    },
    {
      "cell_type": "code",
      "metadata": {
        "id": "XU-aT_FXimqX",
        "colab_type": "code",
        "outputId": "5c26ffb0-a99a-4c64-efc8-842a0f0d8685",
        "colab": {
          "base_uri": "https://localhost:8080/",
          "height": 136
        }
      },
      "source": [
        "agent.collect_data_spec._fields"
      ],
      "execution_count": 0,
      "outputs": [
        {
          "output_type": "execute_result",
          "data": {
            "text/plain": [
              "('step_type',\n",
              " 'observation',\n",
              " 'action',\n",
              " 'policy_info',\n",
              " 'next_step_type',\n",
              " 'reward',\n",
              " 'discount')"
            ]
          },
          "metadata": {
            "tags": []
          },
          "execution_count": 44
        }
      ]
    },
    {
      "cell_type": "code",
      "metadata": {
        "id": "of3KSX3DivJB",
        "colab_type": "code",
        "colab": {}
      },
      "source": [
        "#@test {\"skip\": true}\n",
        "def collect_step(environment, policy, buffer):\n",
        "  time_step = environment.current_time_step()\n",
        "  action_step = policy.action(time_step)\n",
        "  next_time_step = environment.step(action_step.action)\n",
        "  traj = trajectory.from_transition(time_step, action_step, next_time_step)\n",
        "\n",
        "  # Add trajectory to the replay buffer\n",
        "  buffer.add_batch(traj)\n",
        "\n",
        "def collect_data(env, policy, buffer, steps):\n",
        "  for _ in range(steps):\n",
        "    collect_step(env, policy, buffer)\n",
        "\n",
        "collect_data(train_env, random_policy, replay_buffer, steps=100)"
      ],
      "execution_count": 0,
      "outputs": []
    },
    {
      "cell_type": "code",
      "metadata": {
        "id": "-Kh98eqGjMaf",
        "colab_type": "code",
        "outputId": "a4539719-bb2e-44f2-e103-8d9a70f6e860",
        "colab": {
          "base_uri": "https://localhost:8080/",
          "height": 71
        }
      },
      "source": [
        "iter(replay_buffer.as_dataset()).next()"
      ],
      "execution_count": 0,
      "outputs": [
        {
          "output_type": "execute_result",
          "data": {
            "text/plain": [
              "(Trajectory(step_type=<tf.Tensor: shape=(), dtype=int32, numpy=1>, observation=<tf.Tensor: shape=(4,), dtype=float32, numpy=array([ 0.12892172, -0.06671801,  0.11347961,  1.077289  ], dtype=float32)>, action=<tf.Tensor: shape=(), dtype=int64, numpy=1>, policy_info=(), next_step_type=<tf.Tensor: shape=(), dtype=int32, numpy=1>, reward=<tf.Tensor: shape=(), dtype=float32, numpy=1.0>, discount=<tf.Tensor: shape=(), dtype=float32, numpy=1.0>),\n",
              " BufferInfo(ids=<tf.Tensor: shape=(), dtype=int64, numpy=74>, probabilities=<tf.Tensor: shape=(), dtype=float32, numpy=0.01>))"
            ]
          },
          "metadata": {
            "tags": []
          },
          "execution_count": 46
        }
      ]
    },
    {
      "cell_type": "code",
      "metadata": {
        "id": "0-5sKnCojQVY",
        "colab_type": "code",
        "outputId": "1e187914-0e2b-48a5-d8b1-0b44b4559648",
        "colab": {
          "base_uri": "https://localhost:8080/",
          "height": 54
        }
      },
      "source": [
        "dataset = replay_buffer.as_dataset(\n",
        "    num_parallel_calls=3, \n",
        "    sample_batch_size=batch_size, \n",
        "    num_steps=2).prefetch(3)\n",
        "dataset"
      ],
      "execution_count": 0,
      "outputs": [
        {
          "output_type": "execute_result",
          "data": {
            "text/plain": [
              "<PrefetchDataset shapes: (Trajectory(step_type=(64, 2), observation=(64, 2, 4), action=(64, 2), policy_info=(), next_step_type=(64, 2), reward=(64, 2), discount=(64, 2)), BufferInfo(ids=(64, 2), probabilities=(64,))), types: (Trajectory(step_type=tf.int32, observation=tf.float32, action=tf.int64, policy_info=(), next_step_type=tf.int32, reward=tf.float32, discount=tf.float32), BufferInfo(ids=tf.int64, probabilities=tf.float32))>"
            ]
          },
          "metadata": {
            "tags": []
          },
          "execution_count": 61
        }
      ]
    },
    {
      "cell_type": "code",
      "metadata": {
        "id": "inZeO-TqjoE7",
        "colab_type": "code",
        "outputId": "b3683d75-1e24-4c15-a264-c8bd782a3256",
        "colab": {
          "base_uri": "https://localhost:8080/",
          "height": 34
        }
      },
      "source": [
        "iterator = iter(dataset)\n",
        "print(iterator)"
      ],
      "execution_count": 0,
      "outputs": [
        {
          "output_type": "stream",
          "text": [
            "<tensorflow.python.data.ops.iterator_ops.OwnedIterator object at 0x7f96a3a3df98>\n"
          ],
          "name": "stdout"
        }
      ]
    },
    {
      "cell_type": "code",
      "metadata": {
        "id": "qJjtxMtcjx1o",
        "colab_type": "code",
        "outputId": "db0af532-84d0-4e1f-bba9-c15c082627df",
        "colab": {
          "base_uri": "https://localhost:8080/",
          "height": 1000
        }
      },
      "source": [
        "#@test {\"skip\": true}\n",
        "try:\n",
        "  %%time\n",
        "except:\n",
        "  pass\n",
        "\n",
        "# (Optional) Optimize by wrapping some of the code in a graph using TF function.\n",
        "agent.train = common.function(agent.train)\n",
        "\n",
        "# Reset the train step\n",
        "agent.train_step_counter.assign(0)\n",
        "\n",
        "# Evaluate the agent's policy once before training.\n",
        "avg_return = compute_avg_return(eval_env, agent.policy, num_eval_episodes)\n",
        "returns = [avg_return]\n",
        "\n",
        "for _ in range(num_iterations):\n",
        "\n",
        "  # Collect a few steps using collect_policy and save to the replay buffer.\n",
        "  for _ in range(collect_steps_per_iteration):\n",
        "    collect_step(train_env, agent.collect_policy, replay_buffer)\n",
        "\n",
        "  # Sample a batch of data from the buffer and update the agent's network.\n",
        "  experience, unused_info = next(iterator)\n",
        "  train_loss = agent.train(experience).loss\n",
        "\n",
        "  step = agent.train_step_counter.numpy()\n",
        "\n",
        "  if step % log_interval == 0:\n",
        "    print('step = {0}: loss = {1}'.format(step, train_loss))\n",
        "\n",
        "  if step % eval_interval == 0:\n",
        "    avg_return = compute_avg_return(eval_env, agent.policy, num_eval_episodes)\n",
        "    print('step = {0}: Average Return = {1}'.format(step, avg_return))\n",
        "    returns.append(avg_return)"
      ],
      "execution_count": 0,
      "outputs": [
        {
          "output_type": "stream",
          "text": [
            "CPU times: user 3 µs, sys: 0 ns, total: 3 µs\n",
            "Wall time: 6.2 µs\n",
            "step = 200: loss = 35.29541015625\n",
            "step = 400: loss = 1776.5858154296875\n",
            "step = 600: loss = 643.9085083007812\n",
            "step = 800: loss = 1089.471923828125\n",
            "step = 1000: loss = 30.653242111206055\n",
            "step = 1000: Average Return = 200.0\n",
            "step = 1200: loss = 1620.322998046875\n",
            "step = 1400: loss = 43.140357971191406\n",
            "step = 1600: loss = 1344.2266845703125\n",
            "step = 1800: loss = 951.1976318359375\n",
            "step = 2000: loss = 1444.57275390625\n",
            "step = 2000: Average Return = 200.0\n",
            "step = 2200: loss = 40.00000762939453\n",
            "step = 2400: loss = 1066.084716796875\n",
            "step = 2600: loss = 1200.8162841796875\n",
            "step = 2800: loss = 33.25770568847656\n",
            "step = 3000: loss = 68.55303955078125\n",
            "step = 3000: Average Return = 200.0\n",
            "step = 3200: loss = 70.08439636230469\n",
            "step = 3400: loss = 1044.096923828125\n",
            "step = 3600: loss = 1881.2041015625\n",
            "step = 3800: loss = 1141.46630859375\n",
            "step = 4000: loss = 121.8661880493164\n",
            "step = 4000: Average Return = 200.0\n",
            "step = 4200: loss = 3388.823974609375\n",
            "step = 4400: loss = 56.05103302001953\n",
            "step = 4600: loss = 38.227088928222656\n",
            "step = 4800: loss = 58.48957824707031\n",
            "step = 5000: loss = 59.71871566772461\n",
            "step = 5000: Average Return = 200.0\n",
            "step = 5200: loss = 5808.40625\n",
            "step = 5400: loss = 1550.578369140625\n",
            "step = 5600: loss = 48.30672073364258\n",
            "step = 5800: loss = 76.01382446289062\n",
            "step = 6000: loss = 1053.447509765625\n",
            "step = 6000: Average Return = 200.0\n",
            "step = 6200: loss = 4321.5419921875\n",
            "step = 6400: loss = 104.24205017089844\n",
            "step = 6600: loss = 170.60598754882812\n",
            "step = 6800: loss = 2925.1748046875\n",
            "step = 7000: loss = 2368.69287109375\n",
            "step = 7000: Average Return = 200.0\n",
            "step = 7200: loss = 83.35749816894531\n",
            "step = 7400: loss = 45.520851135253906\n",
            "step = 7600: loss = 5911.51708984375\n",
            "step = 7800: loss = 2780.482177734375\n",
            "step = 8000: loss = 2311.699951171875\n",
            "step = 8000: Average Return = 200.0\n",
            "step = 8200: loss = 61.00626754760742\n",
            "step = 8400: loss = 98.77981567382812\n",
            "step = 8600: loss = 1581.0579833984375\n",
            "step = 8800: loss = 2437.59228515625\n",
            "step = 9000: loss = 4341.50732421875\n",
            "step = 9000: Average Return = 200.0\n",
            "step = 9200: loss = 1296.302001953125\n",
            "step = 9400: loss = 70.73622131347656\n",
            "step = 9600: loss = 1032.409423828125\n",
            "step = 9800: loss = 58.89013671875\n",
            "step = 10000: loss = 83.0484619140625\n",
            "step = 10000: Average Return = 200.0\n",
            "step = 10200: loss = 84.08590698242188\n",
            "step = 10400: loss = 5461.28125\n",
            "step = 10600: loss = 4528.29052734375\n",
            "step = 10800: loss = 191.93850708007812\n",
            "step = 11000: loss = 3392.172119140625\n",
            "step = 11000: Average Return = 200.0\n",
            "step = 11200: loss = 95.13959503173828\n",
            "step = 11400: loss = 93.052490234375\n",
            "step = 11600: loss = 4290.224609375\n",
            "step = 11800: loss = 96.5455093383789\n",
            "step = 12000: loss = 150.99671936035156\n",
            "step = 12000: Average Return = 200.0\n",
            "step = 12200: loss = 12069.37890625\n",
            "step = 12400: loss = 92.01863098144531\n",
            "step = 12600: loss = 142.7296142578125\n",
            "step = 12800: loss = 102.84126281738281\n",
            "step = 13000: loss = 64.33821868896484\n",
            "step = 13000: Average Return = 200.0\n",
            "step = 13200: loss = 105.10256958007812\n",
            "step = 13400: loss = 166.1609649658203\n",
            "step = 13600: loss = 4763.05126953125\n",
            "step = 13800: loss = 108.56411743164062\n",
            "step = 14000: loss = 5892.66455078125\n",
            "step = 14000: Average Return = 200.0\n",
            "step = 14200: loss = 125.66075897216797\n",
            "step = 14400: loss = 171.93218994140625\n",
            "step = 14600: loss = 112.90586853027344\n",
            "step = 14800: loss = 75.05205535888672\n",
            "step = 15000: loss = 5770.29248046875\n",
            "step = 15000: Average Return = 200.0\n",
            "step = 15200: loss = 84.33248901367188\n",
            "step = 15400: loss = 8497.998046875\n",
            "step = 15600: loss = 4080.3271484375\n",
            "step = 15800: loss = 109.90119171142578\n",
            "step = 16000: loss = 4926.125\n",
            "step = 16000: Average Return = 200.0\n",
            "step = 16200: loss = 96.12104034423828\n",
            "step = 16400: loss = 143.5597686767578\n",
            "step = 16600: loss = 93.32372283935547\n",
            "step = 16800: loss = 95.55836486816406\n",
            "step = 17000: loss = 5938.99365234375\n",
            "step = 17000: Average Return = 200.0\n",
            "step = 17200: loss = 3651.615234375\n",
            "step = 17400: loss = 156.44837951660156\n",
            "step = 17600: loss = 6022.66552734375\n",
            "step = 17800: loss = 3742.765625\n",
            "step = 18000: loss = 120.22350311279297\n",
            "step = 18000: Average Return = 200.0\n",
            "step = 18200: loss = 7300.005859375\n",
            "step = 18400: loss = 116.32539367675781\n",
            "step = 18600: loss = 87.2457275390625\n",
            "step = 18800: loss = 4864.83203125\n",
            "step = 19000: loss = 8848.7529296875\n",
            "step = 19000: Average Return = 200.0\n",
            "step = 19200: loss = 123.63086700439453\n",
            "step = 19400: loss = 189.89930725097656\n",
            "step = 19600: loss = 9259.517578125\n",
            "step = 19800: loss = 142.11412048339844\n",
            "step = 20000: loss = 99.88569641113281\n",
            "step = 20000: Average Return = 200.0\n"
          ],
          "name": "stdout"
        }
      ]
    },
    {
      "cell_type": "code",
      "metadata": {
        "id": "2GaXaAfnlZ21",
        "colab_type": "code",
        "outputId": "f3ce1969-9109-4fe4-95d7-2f39ceaada12",
        "colab": {
          "base_uri": "https://localhost:8080/",
          "height": 300
        }
      },
      "source": [
        "#@test {\"skip\": true}\n",
        "\n",
        "iterations = range(0, num_iterations + 1, eval_interval)\n",
        "plt.plot(iterations, returns)\n",
        "plt.ylabel('Average Return')\n",
        "plt.xlabel('Iterations')\n",
        "plt.ylim(top=250)"
      ],
      "execution_count": 0,
      "outputs": [
        {
          "output_type": "execute_result",
          "data": {
            "text/plain": [
              "(0.08000040054321289, 250)"
            ]
          },
          "metadata": {
            "tags": []
          },
          "execution_count": 52
        },
        {
          "output_type": "display_data",
          "data": {
            "image/png": "[encoded data removed]",
            "text/plain": [
              "<Figure size 432x288 with 1 Axes>"
            ]
          },
          "metadata": {
            "tags": []
          }
        }
      ]
    },
    {
      "cell_type": "code",
      "metadata": {
        "id": "Pog-KcdpljA4",
        "colab_type": "code",
        "colab": {}
      },
      "source": [
        "def embed_mp4(filename):\n",
        "  \"\"\"Embeds an mp4 file in the notebook.\"\"\"\n",
        "  video = open(filename,'rb').read()\n",
        "  b64 = base64.b64encode(video)\n",
        "  tag = '''\n",
        "  <video width=\"640\" height=\"480\" controls>\n",
        "    <source src=\"data:video/mp4;base64,{0}\" type=\"video/mp4\">\n",
        "  Your browser does not support the video tag.\n",
        "  </video>'''.format(b64.decode())\n",
        "\n",
        "  return IPython.display.HTML(tag)"
      ],
      "execution_count": 0,
      "outputs": []
    },
    {
      "cell_type": "code",
      "metadata": {
        "id": "sBPJeuWJlpaO",
        "colab_type": "code",
        "outputId": "fca5ab8b-4418-4c58-ea92-c699e48aa66e",
        "colab": {
          "base_uri": "https://localhost:8080/",
          "height": 538
        }
      },
      "source": [
        "def create_policy_eval_video(policy, filename, num_episodes=5, fps=30):\n",
        "  filename = filename + \".mp4\"\n",
        "  with imageio.get_writer(filename, fps=fps) as video:\n",
        "    for _ in range(num_episodes):\n",
        "      time_step = eval_env.reset()\n",
        "      video.append_data(eval_py_env.render())\n",
        "      while not time_step.is_last():\n",
        "        action_step = policy.action(time_step)\n",
        "        time_step = eval_env.step(action_step.action)\n",
        "        video.append_data(eval_py_env.render())\n",
        "  return embed_mp4(filename)\n",
        "\n",
        "\n",
        "create_policy_eval_video(agent.policy, \"trained-agent\")"
      ],
      "execution_count": 0,
      "outputs": [
        {
          "output_type": "stream",
          "text": [
            "WARNING:root:IMAGEIO FFMPEG_WRITER WARNING: input image is not divisible by macro_block_size=16, resizing from (400, 600) to (400, 608) to ensure video compatibility with most codecs and players. To prevent resizing, make your input image divisible by the macro_block_size or set the macro_block_size to None (risking incompatibility). You may also see a FFMPEG warning concerning speedloss due to data not being aligned.\n"
          ],
          "name": "stderr"
        },
        {
          "output_type": "execute_result",
          "data": {
            "text/html": [
              "\n",
              "  <video width=\"640\" height=\"480\" controls>\n",
              "    <source src=\"data:video/mp4;base64,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\" type=\"video/mp4\">\n",
              "  Your browser does not support the video tag.\n",
              "  </video>"
            ],
            "text/plain": [
              "<IPython.core.display.HTML object>"
            ]
          },
          "metadata": {
            "tags": []
          },
          "execution_count": 54
        }
      ]
    },
    {
      "cell_type": "code",
      "metadata": {
        "id": "rSCLElvrl4PG",
        "colab_type": "code",
        "outputId": "71171008-8a07-4594-84dc-8002ce92e691",
        "colab": {
          "base_uri": "https://localhost:8080/",
          "height": 538
        }
      },
      "source": [
        "create_policy_eval_video(random_policy, \"random-agent\")"
      ],
      "execution_count": 0,
      "outputs": [
        {
          "output_type": "stream",
          "text": [
            "WARNING:root:IMAGEIO FFMPEG_WRITER WARNING: input image is not divisible by macro_block_size=16, resizing from (400, 600) to (400, 608) to ensure video compatibility with most codecs and players. To prevent resizing, make your input image divisible by the macro_block_size or set the macro_block_size to None (risking incompatibility). You may also see a FFMPEG warning concerning speedloss due to data not being aligned.\n"
          ],
          "name": "stderr"
        },
        {
          "output_type": "execute_result",
          "data": {
            "text/html": [
              "\n",
              "  <video width=\"640\" height=\"480\" controls>\n",
              "    <source src=\"data:video/mp4;base64,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\" type=\"video/mp4\">\n",
              "  Your browser does not support the video tag.\n",
              "  </video>"
            ],
            "text/plain": [
              "<IPython.core.display.HTML object>"
            ]
          },
          "metadata": {
            "tags": []
          },
          "execution_count": 55
        }
      ]
    }
  ]
}